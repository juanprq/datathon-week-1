{
 "cells": [
  {
   "cell_type": "markdown",
   "metadata": {},
   "source": [
    "# Maps plots for Datathon"
   ]
  },
  {
   "cell_type": "code",
   "execution_count": 1,
   "metadata": {},
   "outputs": [],
   "source": [
    "import folium\n",
    "import geopandas\n",
    "import pandas as pd\n",
    "import os"
   ]
  },
  {
   "cell_type": "code",
   "execution_count": 2,
   "metadata": {},
   "outputs": [
    {
     "data": {
      "text/html": [
       "<div>\n",
       "<style scoped>\n",
       "    .dataframe tbody tr th:only-of-type {\n",
       "        vertical-align: middle;\n",
       "    }\n",
       "\n",
       "    .dataframe tbody tr th {\n",
       "        vertical-align: top;\n",
       "    }\n",
       "\n",
       "    .dataframe thead th {\n",
       "        text-align: right;\n",
       "    }\n",
       "</style>\n",
       "<table border=\"1\" class=\"dataframe\">\n",
       "  <thead>\n",
       "    <tr style=\"text-align: right;\">\n",
       "      <th></th>\n",
       "      <th>OBJECTID</th>\n",
       "      <th>BoroCode</th>\n",
       "      <th>BoroName</th>\n",
       "      <th>CountyFIPS</th>\n",
       "      <th>NTACode</th>\n",
       "      <th>NTAName</th>\n",
       "      <th>Shape__Area</th>\n",
       "      <th>Shape__Length</th>\n",
       "      <th>geometry</th>\n",
       "    </tr>\n",
       "  </thead>\n",
       "  <tbody>\n",
       "    <tr>\n",
       "      <th>0</th>\n",
       "      <td>1</td>\n",
       "      <td>3</td>\n",
       "      <td>Brooklyn</td>\n",
       "      <td>047</td>\n",
       "      <td>BK88</td>\n",
       "      <td>Borough Park</td>\n",
       "      <td>5.400502e+07</td>\n",
       "      <td>39247.228074</td>\n",
       "      <td>POLYGON ((-73.9760507905698 40.6312841471042, ...</td>\n",
       "    </tr>\n",
       "    <tr>\n",
       "      <th>1</th>\n",
       "      <td>2</td>\n",
       "      <td>4</td>\n",
       "      <td>Queens</td>\n",
       "      <td>081</td>\n",
       "      <td>QN51</td>\n",
       "      <td>Murray Hill</td>\n",
       "      <td>5.248828e+07</td>\n",
       "      <td>33266.904811</td>\n",
       "      <td>POLYGON ((-73.8037916164017 40.7756183875692, ...</td>\n",
       "    </tr>\n",
       "    <tr>\n",
       "      <th>2</th>\n",
       "      <td>3</td>\n",
       "      <td>4</td>\n",
       "      <td>Queens</td>\n",
       "      <td>081</td>\n",
       "      <td>QN27</td>\n",
       "      <td>East Elmhurst</td>\n",
       "      <td>1.972695e+07</td>\n",
       "      <td>19816.684513</td>\n",
       "      <td>POLYGON ((-73.8610986495631 40.7636727481715, ...</td>\n",
       "    </tr>\n",
       "    <tr>\n",
       "      <th>3</th>\n",
       "      <td>4</td>\n",
       "      <td>4</td>\n",
       "      <td>Queens</td>\n",
       "      <td>081</td>\n",
       "      <td>QN07</td>\n",
       "      <td>Hollis</td>\n",
       "      <td>2.288777e+07</td>\n",
       "      <td>20976.335837</td>\n",
       "      <td>POLYGON ((-73.7572580842358 40.7181468677945, ...</td>\n",
       "    </tr>\n",
       "    <tr>\n",
       "      <th>4</th>\n",
       "      <td>5</td>\n",
       "      <td>1</td>\n",
       "      <td>Manhattan</td>\n",
       "      <td>061</td>\n",
       "      <td>MN06</td>\n",
       "      <td>Manhattanville</td>\n",
       "      <td>1.064708e+07</td>\n",
       "      <td>17040.686548</td>\n",
       "      <td>POLYGON ((-73.94607972197851 40.821271495794, ...</td>\n",
       "    </tr>\n",
       "  </tbody>\n",
       "</table>\n",
       "</div>"
      ],
      "text/plain": [
       "   OBJECTID  BoroCode   BoroName CountyFIPS NTACode         NTAName  \\\n",
       "0         1         3   Brooklyn        047    BK88    Borough Park   \n",
       "1         2         4     Queens        081    QN51     Murray Hill   \n",
       "2         3         4     Queens        081    QN27   East Elmhurst   \n",
       "3         4         4     Queens        081    QN07          Hollis   \n",
       "4         5         1  Manhattan        061    MN06  Manhattanville   \n",
       "\n",
       "    Shape__Area  Shape__Length  \\\n",
       "0  5.400502e+07   39247.228074   \n",
       "1  5.248828e+07   33266.904811   \n",
       "2  1.972695e+07   19816.684513   \n",
       "3  2.288777e+07   20976.335837   \n",
       "4  1.064708e+07   17040.686548   \n",
       "\n",
       "                                            geometry  \n",
       "0  POLYGON ((-73.9760507905698 40.6312841471042, ...  \n",
       "1  POLYGON ((-73.8037916164017 40.7756183875692, ...  \n",
       "2  POLYGON ((-73.8610986495631 40.7636727481715, ...  \n",
       "3  POLYGON ((-73.7572580842358 40.7181468677945, ...  \n",
       "4  POLYGON ((-73.94607972197851 40.821271495794, ...  "
      ]
     },
     "execution_count": 2,
     "metadata": {},
     "output_type": "execute_result"
    }
   ],
   "source": [
    "df = geopandas.read_file('../Dataset/geo_json.json')\n",
    "df.head()"
   ]
  },
  {
   "cell_type": "code",
   "execution_count": 3,
   "metadata": {},
   "outputs": [],
   "source": [
    "def embed_map(m):\n",
    "    from IPython.display import IFrame\n",
    "\n",
    "    m.save('../Dataset/map.html')\n",
    "    return IFrame('../Dataset/map.html', width = '100%', height = '750px')"
   ]
  },
  {
   "cell_type": "code",
   "execution_count": 4,
   "metadata": {},
   "outputs": [
    {
     "name": "stdout",
     "output_type": "stream",
     "text": [
      "loaded: ../Dataset/demographics.csv\n",
      "loaded: ../Dataset/geographic.csv\n",
      "loaded: ../Dataset/green_trips.csv\n",
      "loaded: ../Dataset/mta_trips.csv\n",
      "loaded: ../Dataset/uber_trips_2014.csv\n",
      "loaded: ../Dataset/uber_trips_2015.csv\n",
      "loaded: ../Dataset/weather.csv\n",
      "loaded: ../Dataset/yellow_trips.csv\n",
      "loaded: ../Dataset/zones.csv\n",
      "All datasets loaded!\n"
     ]
    }
   ],
   "source": [
    "data_folder = '../Dataset'\n",
    "\n",
    "dataset_names = ['demographics', 'geographic', 'green_trips', 'mta_trips',\n",
    "            'uber_trips_2014', 'uber_trips_2015', 'weather', 'yellow_trips', 'zones']\n",
    "datasets = {}\n",
    "for dataset_name in dataset_names:\n",
    "    filename = f\"{dataset_name}.csv\"\n",
    "    filepath = os.path.join(data_folder, filename)\n",
    "    datasets[dataset_name] = pd.read_csv(filepath, dtype = { 'line_name': str }) if dataset_name == 'mta_trips' else pd.read_csv(filepath)\n",
    "    print(f\"loaded: {filepath}\")\n",
    "\n",
    "print('All datasets loaded!')"
   ]
  },
  {
   "cell_type": "markdown",
   "metadata": {},
   "source": [
    "# Maps for the different pick up point between Uber riders, Green Taxis and Yellow Taxis"
   ]
  },
  {
   "cell_type": "code",
   "execution_count": 5,
   "metadata": {},
   "outputs": [],
   "source": [
    "trips_with_coordinates = {\n",
    "    'uber_trips_2014': { 'color': 'black' },\n",
    "    'yellow_trips': { 'color': 'yellow' },\n",
    "    'green_trips': { 'color': 'green' }\n",
    "}\n",
    "\n",
    "dropoffs = ['yellow_trips', 'green_trips']\n",
    "\n",
    "mta_stations_df = datasets['mta_trips'].groupby('station')[['latitude', 'longitude']].first()\n",
    "\n",
    "maps = {}\n",
    "for dataset_name, value, in trips_with_coordinates.items():\n",
    "    \n",
    "    folium_map = folium.Map(location = [40.738, -73.98], zoom_start = 12, tiles = 'Stamen Terrain')\n",
    "    df = datasets[dataset_name]\n",
    "\n",
    "    for i, row in df.sample(10000).iterrows():\n",
    "        longitude, latitude = row['pickup_longitude'], row['pickup_latitude']\n",
    "        marker = folium.CircleMarker(location = [latitude, longitude], radius = 3, color = value['color'], fill = True, stroke = False)\n",
    "        marker.add_to(folium_map)\n",
    "        \n",
    "        if dataset_name in dropoffs:\n",
    "            longitude, latitude = row['dropoff_longitude'], row['dropoff_latitude']\n",
    "            marker = folium.CircleMarker(location = [latitude, longitude], radius = 3, color = 'blue', fill = True, stroke = False)\n",
    "            marker.add_to(folium_map)\n",
    "            \n",
    "\n",
    "    for i, row in mta_stations_df.iterrows():\n",
    "        longitude, latitude = row['longitude'], row['latitude']\n",
    "        marker = folium.CircleMarker(location = [latitude, longitude], radius = 3, color = 'red', fill = True, stroke = True, weight = 2)\n",
    "        marker.add_to(folium_map)\n",
    "        \n",
    "        \n",
    "    maps[dataset_name] = folium_map"
   ]
  },
  {
   "cell_type": "code",
   "execution_count": 9,
   "metadata": {},
   "outputs": [
    {
     "data": {
      "text/html": [
       "\n",
       "        <iframe\n",
       "            width=\"100%\"\n",
       "            height=\"750px\"\n",
       "            src=\"../Dataset/map.html\"\n",
       "            frameborder=\"0\"\n",
       "            allowfullscreen\n",
       "        ></iframe>\n",
       "        "
      ],
      "text/plain": [
       "<IPython.lib.display.IFrame at 0x1507a4cf8>"
      ]
     },
     "execution_count": 9,
     "metadata": {},
     "output_type": "execute_result"
    }
   ],
   "source": [
    "embed_map(maps['uber_trips_2014'])"
   ]
  },
  {
   "cell_type": "code",
   "execution_count": 10,
   "metadata": {},
   "outputs": [
    {
     "data": {
      "text/html": [
       "\n",
       "        <iframe\n",
       "            width=\"100%\"\n",
       "            height=\"750px\"\n",
       "            src=\"../Dataset/map.html\"\n",
       "            frameborder=\"0\"\n",
       "            allowfullscreen\n",
       "        ></iframe>\n",
       "        "
      ],
      "text/plain": [
       "<IPython.lib.display.IFrame at 0x16d4e8160>"
      ]
     },
     "execution_count": 10,
     "metadata": {},
     "output_type": "execute_result"
    }
   ],
   "source": [
    "embed_map(maps['yellow_trips'])"
   ]
  },
  {
   "cell_type": "code",
   "execution_count": 8,
   "metadata": {},
   "outputs": [
    {
     "data": {
      "text/html": [
       "\n",
       "        <iframe\n",
       "            width=\"100%\"\n",
       "            height=\"750px\"\n",
       "            src=\"../Dataset/map.html\"\n",
       "            frameborder=\"0\"\n",
       "            allowfullscreen\n",
       "        ></iframe>\n",
       "        "
      ],
      "text/plain": [
       "<IPython.lib.display.IFrame at 0x1843eb9b0>"
      ]
     },
     "execution_count": 8,
     "metadata": {},
     "output_type": "execute_result"
    }
   ],
   "source": [
    "embed_map(maps['green_trips'])"
   ]
  },
  {
   "cell_type": "markdown",
   "metadata": {},
   "source": [
    "# TODO: Graficar el dropoff tambien a ver que vemos, en amarillos y en verdes que puede ser mas interesante"
   ]
  }
 ],
 "metadata": {
  "kernelspec": {
   "display_name": "Python 3",
   "language": "python",
   "name": "python3"
  },
  "language_info": {
   "codemirror_mode": {
    "name": "ipython",
    "version": 3
   },
   "file_extension": ".py",
   "mimetype": "text/x-python",
   "name": "python",
   "nbconvert_exporter": "python",
   "pygments_lexer": "ipython3",
   "version": "3.7.3"
  }
 },
 "nbformat": 4,
 "nbformat_minor": 4
}
